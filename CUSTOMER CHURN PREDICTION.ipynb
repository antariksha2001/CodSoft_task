{
 "cells": [
  {
   "cell_type": "code",
   "execution_count": 4,
   "id": "a04f0761",
   "metadata": {},
   "outputs": [],
   "source": [
    "import tkinter as tk\n",
    "from tkinter import filedialog\n",
    "import pandas as pd\n",
    "from sklearn.model_selection import train_test_split\n",
    "from sklearn.ensemble import RandomForestClassifier\n",
    "from sklearn.metrics import accuracy_score, classification_report\n",
    "\n",
    "def load_data():\n",
    "    global df\n",
    "    filename = filedialog.askopenfilename(filetypes=[(\"CSV Files\", \"*.csv\")])\n",
    "    if filename:\n",
    "        df = pd.read_csv(filename)\n",
    "        info_label.config(text=\"Dataset loaded successfully.\", fg=\"green\")\n",
    "\n",
    "def train_model():\n",
    "    global rf_model, X_train, X_test, y_train, y_test\n",
    "    X = df.drop(['Exited', 'RowNumber', 'CustomerId', 'Surname'], axis=1)\n",
    "    y = df['Exited']\n",
    "    X = pd.get_dummies(X, columns=['Geography', 'Gender'], drop_first=True)\n",
    "    X_train, X_test, y_train, y_test = train_test_split(X, y, test_size=0.2, random_state=42)\n",
    "    rf_model = RandomForestClassifier(n_estimators=100, random_state=42)\n",
    "    rf_model.fit(X_train, y_train)\n",
    "    y_pred = rf_model.predict(X_test)\n",
    "    accuracy = accuracy_score(y_test, y_pred)\n",
    "    report = classification_report(y_test, y_pred)\n",
    "    result_label.config(text=f'Accuracy: {accuracy}\\nClassification Report:\\n{report}', fg=\"blue\")\n",
    "\n",
    "# Create the main window\n",
    "root = tk.Tk()\n",
    "root.title(\"Customer Churn Prediction\")\n",
    "root.configure(bg=\"#E0FFFF\")  # Set background color\n",
    "\n",
    "# Load Data Button\n",
    "load_button = tk.Button(root, text=\"Load Data\", command=load_data, bg=\"#FFD700\")  # Set button color\n",
    "load_button.pack(pady=10)\n",
    "\n",
    "# Info Label\n",
    "info_label = tk.Label(root, text=\"\", bg=\"#E0FFFF\")  # Set label background color\n",
    "info_label.pack()\n",
    "\n",
    "# Train Model Button\n",
    "train_button = tk.Button(root, text=\"Train Model\", command=train_model, bg=\"#FFD700\")  # Set button color\n",
    "train_button.pack(pady=10)\n",
    "\n",
    "# Result Label\n",
    "result_label = tk.Label(root, text=\"\", bg=\"#E0FFFF\")  # Set label background color\n",
    "result_label.pack()\n",
    "\n",
    "# Run the GUI application\n",
    "root.mainloop()\n"
   ]
  },
  {
   "cell_type": "code",
   "execution_count": null,
   "id": "22284eb4",
   "metadata": {},
   "outputs": [],
   "source": []
  }
 ],
 "metadata": {
  "kernelspec": {
   "display_name": "Python 3 (ipykernel)",
   "language": "python",
   "name": "python3"
  },
  "language_info": {
   "codemirror_mode": {
    "name": "ipython",
    "version": 3
   },
   "file_extension": ".py",
   "mimetype": "text/x-python",
   "name": "python",
   "nbconvert_exporter": "python",
   "pygments_lexer": "ipython3",
   "version": "3.11.5"
  }
 },
 "nbformat": 4,
 "nbformat_minor": 5
}
